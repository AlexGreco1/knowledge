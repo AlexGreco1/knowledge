{
  "cells": [
    {
      "cell_type": "markdown",
      "metadata": {
        "id": "view-in-github",
        "colab_type": "text"
      },
      "source": [
        "<a href=\"https://colab.research.google.com/github/AlexGreco1/knowledge/blob/main/IncidentRootCauseAnalysis.ipynb\" target=\"_parent\"><img src=\"https://colab.research.google.com/assets/colab-badge.svg\" alt=\"Open In Colab\"/></a>"
      ]
    },
    {
      "cell_type": "markdown",
      "metadata": {
        "id": "nh3BfU34mlOz"
      },
      "source": [
        "#  Incident Root Cause Analysis \n",
        "\n",
        "Incident Reports in ITOps usually states the symptoms. Identifying the root cause of the symptom quickly is a key determinant to reducing resolution times and improving user satisfaction."
      ]
    },
    {
      "cell_type": "markdown",
      "metadata": {
        "id": "6fRfsFPwmlO1"
      },
      "source": [
        "# 06.02. Preprocessing Incident Data\n",
        "\n",
        "### Loading the Dataset"
      ]
    },
    {
      "cell_type": "code",
      "execution_count": 1,
      "metadata": {
        "scrolled": true,
        "colab": {
          "base_uri": "https://localhost:8080/",
          "height": 383
        },
        "id": "K9R0xkfImlO2",
        "outputId": "38f6e57d-4a50-4dda-d918-f9b4d790d67e"
      },
      "outputs": [
        {
          "output_type": "stream",
          "name": "stdout",
          "text": [
            "ID                   int64\n",
            "CPU_LOAD             int64\n",
            "MEMORY_LEAK_LOAD     int64\n",
            "DELAY                int64\n",
            "ERROR_1000           int64\n",
            "ERROR_1001           int64\n",
            "ERROR_1002           int64\n",
            "ERROR_1003           int64\n",
            "ROOT_CAUSE          object\n",
            "dtype: object\n"
          ]
        },
        {
          "output_type": "execute_result",
          "data": {
            "text/plain": [
              "   ID  CPU_LOAD  MEMORY_LEAK_LOAD  DELAY  ERROR_1000  ERROR_1001  ERROR_1002  \\\n",
              "0   1         0                 0      0           0           1           0   \n",
              "1   2         0                 0      0           0           0           0   \n",
              "2   3         0                 1      1           0           0           1   \n",
              "3   4         0                 1      0           1           1           0   \n",
              "4   5         1                 1      0           1           0           1   \n",
              "\n",
              "   ERROR_1003     ROOT_CAUSE  \n",
              "0           1    MEMORY_LEAK  \n",
              "1           1    MEMORY_LEAK  \n",
              "2           1    MEMORY_LEAK  \n",
              "3           1    MEMORY_LEAK  \n",
              "4           0  NETWORK_DELAY  "
            ],
            "text/html": [
              "\n",
              "  <div id=\"df-c1bff5d0-93ee-4c93-973b-438a065a66b8\">\n",
              "    <div class=\"colab-df-container\">\n",
              "      <div>\n",
              "<style scoped>\n",
              "    .dataframe tbody tr th:only-of-type {\n",
              "        vertical-align: middle;\n",
              "    }\n",
              "\n",
              "    .dataframe tbody tr th {\n",
              "        vertical-align: top;\n",
              "    }\n",
              "\n",
              "    .dataframe thead th {\n",
              "        text-align: right;\n",
              "    }\n",
              "</style>\n",
              "<table border=\"1\" class=\"dataframe\">\n",
              "  <thead>\n",
              "    <tr style=\"text-align: right;\">\n",
              "      <th></th>\n",
              "      <th>ID</th>\n",
              "      <th>CPU_LOAD</th>\n",
              "      <th>MEMORY_LEAK_LOAD</th>\n",
              "      <th>DELAY</th>\n",
              "      <th>ERROR_1000</th>\n",
              "      <th>ERROR_1001</th>\n",
              "      <th>ERROR_1002</th>\n",
              "      <th>ERROR_1003</th>\n",
              "      <th>ROOT_CAUSE</th>\n",
              "    </tr>\n",
              "  </thead>\n",
              "  <tbody>\n",
              "    <tr>\n",
              "      <th>0</th>\n",
              "      <td>1</td>\n",
              "      <td>0</td>\n",
              "      <td>0</td>\n",
              "      <td>0</td>\n",
              "      <td>0</td>\n",
              "      <td>1</td>\n",
              "      <td>0</td>\n",
              "      <td>1</td>\n",
              "      <td>MEMORY_LEAK</td>\n",
              "    </tr>\n",
              "    <tr>\n",
              "      <th>1</th>\n",
              "      <td>2</td>\n",
              "      <td>0</td>\n",
              "      <td>0</td>\n",
              "      <td>0</td>\n",
              "      <td>0</td>\n",
              "      <td>0</td>\n",
              "      <td>0</td>\n",
              "      <td>1</td>\n",
              "      <td>MEMORY_LEAK</td>\n",
              "    </tr>\n",
              "    <tr>\n",
              "      <th>2</th>\n",
              "      <td>3</td>\n",
              "      <td>0</td>\n",
              "      <td>1</td>\n",
              "      <td>1</td>\n",
              "      <td>0</td>\n",
              "      <td>0</td>\n",
              "      <td>1</td>\n",
              "      <td>1</td>\n",
              "      <td>MEMORY_LEAK</td>\n",
              "    </tr>\n",
              "    <tr>\n",
              "      <th>3</th>\n",
              "      <td>4</td>\n",
              "      <td>0</td>\n",
              "      <td>1</td>\n",
              "      <td>0</td>\n",
              "      <td>1</td>\n",
              "      <td>1</td>\n",
              "      <td>0</td>\n",
              "      <td>1</td>\n",
              "      <td>MEMORY_LEAK</td>\n",
              "    </tr>\n",
              "    <tr>\n",
              "      <th>4</th>\n",
              "      <td>5</td>\n",
              "      <td>1</td>\n",
              "      <td>1</td>\n",
              "      <td>0</td>\n",
              "      <td>1</td>\n",
              "      <td>0</td>\n",
              "      <td>1</td>\n",
              "      <td>0</td>\n",
              "      <td>NETWORK_DELAY</td>\n",
              "    </tr>\n",
              "  </tbody>\n",
              "</table>\n",
              "</div>\n",
              "      <button class=\"colab-df-convert\" onclick=\"convertToInteractive('df-c1bff5d0-93ee-4c93-973b-438a065a66b8')\"\n",
              "              title=\"Convert this dataframe to an interactive table.\"\n",
              "              style=\"display:none;\">\n",
              "        \n",
              "  <svg xmlns=\"http://www.w3.org/2000/svg\" height=\"24px\"viewBox=\"0 0 24 24\"\n",
              "       width=\"24px\">\n",
              "    <path d=\"M0 0h24v24H0V0z\" fill=\"none\"/>\n",
              "    <path d=\"M18.56 5.44l.94 2.06.94-2.06 2.06-.94-2.06-.94-.94-2.06-.94 2.06-2.06.94zm-11 1L8.5 8.5l.94-2.06 2.06-.94-2.06-.94L8.5 2.5l-.94 2.06-2.06.94zm10 10l.94 2.06.94-2.06 2.06-.94-2.06-.94-.94-2.06-.94 2.06-2.06.94z\"/><path d=\"M17.41 7.96l-1.37-1.37c-.4-.4-.92-.59-1.43-.59-.52 0-1.04.2-1.43.59L10.3 9.45l-7.72 7.72c-.78.78-.78 2.05 0 2.83L4 21.41c.39.39.9.59 1.41.59.51 0 1.02-.2 1.41-.59l7.78-7.78 2.81-2.81c.8-.78.8-2.07 0-2.86zM5.41 20L4 18.59l7.72-7.72 1.47 1.35L5.41 20z\"/>\n",
              "  </svg>\n",
              "      </button>\n",
              "      \n",
              "  <style>\n",
              "    .colab-df-container {\n",
              "      display:flex;\n",
              "      flex-wrap:wrap;\n",
              "      gap: 12px;\n",
              "    }\n",
              "\n",
              "    .colab-df-convert {\n",
              "      background-color: #E8F0FE;\n",
              "      border: none;\n",
              "      border-radius: 50%;\n",
              "      cursor: pointer;\n",
              "      display: none;\n",
              "      fill: #1967D2;\n",
              "      height: 32px;\n",
              "      padding: 0 0 0 0;\n",
              "      width: 32px;\n",
              "    }\n",
              "\n",
              "    .colab-df-convert:hover {\n",
              "      background-color: #E2EBFA;\n",
              "      box-shadow: 0px 1px 2px rgba(60, 64, 67, 0.3), 0px 1px 3px 1px rgba(60, 64, 67, 0.15);\n",
              "      fill: #174EA6;\n",
              "    }\n",
              "\n",
              "    [theme=dark] .colab-df-convert {\n",
              "      background-color: #3B4455;\n",
              "      fill: #D2E3FC;\n",
              "    }\n",
              "\n",
              "    [theme=dark] .colab-df-convert:hover {\n",
              "      background-color: #434B5C;\n",
              "      box-shadow: 0px 1px 3px 1px rgba(0, 0, 0, 0.15);\n",
              "      filter: drop-shadow(0px 1px 2px rgba(0, 0, 0, 0.3));\n",
              "      fill: #FFFFFF;\n",
              "    }\n",
              "  </style>\n",
              "\n",
              "      <script>\n",
              "        const buttonEl =\n",
              "          document.querySelector('#df-c1bff5d0-93ee-4c93-973b-438a065a66b8 button.colab-df-convert');\n",
              "        buttonEl.style.display =\n",
              "          google.colab.kernel.accessAllowed ? 'block' : 'none';\n",
              "\n",
              "        async function convertToInteractive(key) {\n",
              "          const element = document.querySelector('#df-c1bff5d0-93ee-4c93-973b-438a065a66b8');\n",
              "          const dataTable =\n",
              "            await google.colab.kernel.invokeFunction('convertToInteractive',\n",
              "                                                     [key], {});\n",
              "          if (!dataTable) return;\n",
              "\n",
              "          const docLinkHtml = 'Like what you see? Visit the ' +\n",
              "            '<a target=\"_blank\" href=https://colab.research.google.com/notebooks/data_table.ipynb>data table notebook</a>'\n",
              "            + ' to learn more about interactive tables.';\n",
              "          element.innerHTML = '';\n",
              "          dataTable['output_type'] = 'display_data';\n",
              "          await google.colab.output.renderOutput(dataTable, element);\n",
              "          const docLink = document.createElement('div');\n",
              "          docLink.innerHTML = docLinkHtml;\n",
              "          element.appendChild(docLink);\n",
              "        }\n",
              "      </script>\n",
              "    </div>\n",
              "  </div>\n",
              "  "
            ]
          },
          "metadata": {},
          "execution_count": 1
        }
      ],
      "source": [
        "import pandas as pd\n",
        "import os\n",
        "import tensorflow as tf\n",
        "\n",
        "#Load the data file into a Pandas Dataframe\n",
        "symptom_data = pd.read_csv(\"root_cause_analysis.csv\")\n",
        "\n",
        "#Explore the data loaded\n",
        "print(symptom_data.dtypes)\n",
        "symptom_data.head()"
      ]
    },
    {
      "cell_type": "markdown",
      "metadata": {
        "id": "47ncci0kmlO3"
      },
      "source": [
        "### Convert  data\n",
        "\n",
        "Input data needs to be converted to formats that can be consumed by ML algorithms"
      ]
    },
    {
      "cell_type": "code",
      "execution_count": 2,
      "metadata": {
        "colab": {
          "base_uri": "https://localhost:8080/"
        },
        "id": "5xs-_Yy4mlO3",
        "outputId": "575639b2-f1c8-46d6-c377-7c0360293eca"
      },
      "outputs": [
        {
          "output_type": "stream",
          "name": "stdout",
          "text": [
            "Shape of feature variables : (900, 7)\n",
            "Shape of target variable : (900, 3)\n"
          ]
        }
      ],
      "source": [
        "from sklearn import preprocessing\n",
        "from sklearn.model_selection import train_test_split\n",
        "\n",
        "label_encoder = preprocessing.LabelEncoder()\n",
        "symptom_data['ROOT_CAUSE'] = label_encoder.fit_transform(\n",
        "                                symptom_data['ROOT_CAUSE'])\n",
        "\n",
        "#Convert Pandas DataFrame to a numpy vector\n",
        "np_symptom = symptom_data.to_numpy().astype(float)\n",
        "\n",
        "#Extract the feature variables (X)\n",
        "X_data = np_symptom[:,1:8]\n",
        "\n",
        "#Extract the target variable (Y), conver to one-hot-encodign\n",
        "Y_data=np_symptom[:,8]\n",
        "Y_data = tf.keras.utils.to_categorical(Y_data,3)\n",
        "\n",
        "#Split training and test data\n",
        "X_train,X_test,Y_train,Y_test = train_test_split( X_data, Y_data, test_size=0.10)\n",
        "\n",
        "print(\"Shape of feature variables :\", X_train.shape)\n",
        "print(\"Shape of target variable :\",Y_train.shape)"
      ]
    },
    {
      "cell_type": "markdown",
      "metadata": {
        "id": "tTSQQ20rmlO3"
      },
      "source": [
        "## 06.03. Building and evaluating the model"
      ]
    },
    {
      "cell_type": "code",
      "execution_count": 3,
      "metadata": {
        "colab": {
          "base_uri": "https://localhost:8080/"
        },
        "id": "iV8TVtZJmlO4",
        "outputId": "8317bf2b-cc89-4b50-b348-4bbf88678ca7"
      },
      "outputs": [
        {
          "output_type": "stream",
          "name": "stdout",
          "text": [
            "Model: \"sequential\"\n",
            "_________________________________________________________________\n",
            " Layer (type)                Output Shape              Param #   \n",
            "=================================================================\n",
            " Dense-Layer-1 (Dense)       (None, 128)               1024      \n",
            "                                                                 \n",
            " Dense-Layer-2 (Dense)       (None, 128)               16512     \n",
            "                                                                 \n",
            " Final (Dense)               (None, 3)                 387       \n",
            "                                                                 \n",
            "=================================================================\n",
            "Total params: 17,923\n",
            "Trainable params: 17,923\n",
            "Non-trainable params: 0\n",
            "_________________________________________________________________\n",
            "Epoch 1/20\n",
            "12/12 [==============================] - 1s 18ms/step - loss: 0.8482 - accuracy: 0.7208 - val_loss: 0.6442 - val_accuracy: 0.8111\n",
            "Epoch 2/20\n",
            "12/12 [==============================] - 0s 3ms/step - loss: 0.5971 - accuracy: 0.8069 - val_loss: 0.5058 - val_accuracy: 0.7944\n",
            "Epoch 3/20\n",
            "12/12 [==============================] - 0s 4ms/step - loss: 0.5100 - accuracy: 0.8194 - val_loss: 0.4528 - val_accuracy: 0.8111\n",
            "Epoch 4/20\n",
            "12/12 [==============================] - 0s 5ms/step - loss: 0.4748 - accuracy: 0.8333 - val_loss: 0.4415 - val_accuracy: 0.8111\n",
            "Epoch 5/20\n",
            "12/12 [==============================] - 0s 4ms/step - loss: 0.4617 - accuracy: 0.8292 - val_loss: 0.4482 - val_accuracy: 0.8222\n",
            "Epoch 6/20\n",
            "12/12 [==============================] - 0s 4ms/step - loss: 0.4532 - accuracy: 0.8361 - val_loss: 0.4491 - val_accuracy: 0.8222\n",
            "Epoch 7/20\n",
            "12/12 [==============================] - 0s 4ms/step - loss: 0.4491 - accuracy: 0.8375 - val_loss: 0.4209 - val_accuracy: 0.8444\n",
            "Epoch 8/20\n",
            "12/12 [==============================] - 0s 4ms/step - loss: 0.4400 - accuracy: 0.8333 - val_loss: 0.4323 - val_accuracy: 0.8222\n",
            "Epoch 9/20\n",
            "12/12 [==============================] - 0s 4ms/step - loss: 0.4290 - accuracy: 0.8500 - val_loss: 0.4197 - val_accuracy: 0.8333\n",
            "Epoch 10/20\n",
            "12/12 [==============================] - 0s 4ms/step - loss: 0.4308 - accuracy: 0.8389 - val_loss: 0.4298 - val_accuracy: 0.8389\n",
            "Epoch 11/20\n",
            "12/12 [==============================] - 0s 4ms/step - loss: 0.4286 - accuracy: 0.8500 - val_loss: 0.4336 - val_accuracy: 0.8389\n",
            "Epoch 12/20\n",
            "12/12 [==============================] - 0s 4ms/step - loss: 0.4202 - accuracy: 0.8514 - val_loss: 0.4130 - val_accuracy: 0.8333\n",
            "Epoch 13/20\n",
            "12/12 [==============================] - 0s 4ms/step - loss: 0.4149 - accuracy: 0.8458 - val_loss: 0.4328 - val_accuracy: 0.8167\n",
            "Epoch 14/20\n",
            "12/12 [==============================] - 0s 4ms/step - loss: 0.4105 - accuracy: 0.8528 - val_loss: 0.4305 - val_accuracy: 0.7944\n",
            "Epoch 15/20\n",
            "12/12 [==============================] - 0s 4ms/step - loss: 0.4087 - accuracy: 0.8375 - val_loss: 0.4003 - val_accuracy: 0.8444\n",
            "Epoch 16/20\n",
            "12/12 [==============================] - 0s 4ms/step - loss: 0.4020 - accuracy: 0.8486 - val_loss: 0.3986 - val_accuracy: 0.8333\n",
            "Epoch 17/20\n",
            "12/12 [==============================] - 0s 4ms/step - loss: 0.3963 - accuracy: 0.8486 - val_loss: 0.4051 - val_accuracy: 0.8444\n",
            "Epoch 18/20\n",
            "12/12 [==============================] - 0s 4ms/step - loss: 0.3938 - accuracy: 0.8514 - val_loss: 0.4042 - val_accuracy: 0.8333\n",
            "Epoch 19/20\n",
            "12/12 [==============================] - 0s 5ms/step - loss: 0.3962 - accuracy: 0.8472 - val_loss: 0.4051 - val_accuracy: 0.8444\n",
            "Epoch 20/20\n",
            "12/12 [==============================] - 0s 4ms/step - loss: 0.3895 - accuracy: 0.8542 - val_loss: 0.4098 - val_accuracy: 0.8500\n",
            "\n",
            "Evaluation against Test Dataset :\n",
            "------------------------------------\n",
            "4/4 [==============================] - 0s 3ms/step - loss: 0.4229 - accuracy: 0.8800\n"
          ]
        },
        {
          "output_type": "execute_result",
          "data": {
            "text/plain": [
              "[0.4229378402233124, 0.8799999952316284]"
            ]
          },
          "metadata": {},
          "execution_count": 3
        }
      ],
      "source": [
        "from tensorflow import keras\n",
        "from tensorflow.keras import optimizers\n",
        "from tensorflow.keras.regularizers import l2\n",
        "\n",
        "#Setup Training Parameters\n",
        "EPOCHS=20\n",
        "BATCH_SIZE=64\n",
        "VERBOSE=1\n",
        "OUTPUT_CLASSES=len(label_encoder.classes_)\n",
        "N_HIDDEN=128\n",
        "VALIDATION_SPLIT=0.2\n",
        "\n",
        "#Create a Keras sequential model\n",
        "model = tf.keras.models.Sequential()\n",
        "#Add a Dense Layer\n",
        "model.add(keras.layers.Dense(N_HIDDEN,\n",
        "                             input_shape=(7,),\n",
        "                              name='Dense-Layer-1',\n",
        "                              activation='relu'))\n",
        "\n",
        "#Add a second dense layer\n",
        "model.add(keras.layers.Dense(N_HIDDEN,\n",
        "                              name='Dense-Layer-2',\n",
        "                              activation='relu'))\n",
        "\n",
        "#Add a softmax layer for categorial prediction\n",
        "model.add(keras.layers.Dense(OUTPUT_CLASSES,\n",
        "                             name='Final',\n",
        "                             activation='softmax'))\n",
        "\n",
        "#Compile the model\n",
        "model.compile(\n",
        "              loss='categorical_crossentropy',\n",
        "              metrics=['accuracy'])\n",
        "\n",
        "\n",
        "model.summary()\n",
        "\n",
        "#Build the model\n",
        "model.fit(X_train,\n",
        "          Y_train,\n",
        "          batch_size=BATCH_SIZE,\n",
        "          epochs=EPOCHS,\n",
        "          verbose=VERBOSE,\n",
        "          validation_split=VALIDATION_SPLIT)\n",
        "\n",
        "\n",
        "#Evaluate the model against the test dataset and print results\n",
        "print(\"\\nEvaluation against Test Dataset :\\n------------------------------------\")\n",
        "model.evaluate(X_test,Y_test)"
      ]
    },
    {
      "cell_type": "markdown",
      "metadata": {
        "id": "K-vr_u78mlO4"
      },
      "source": [
        "## 06.04. Predicting Root Causes"
      ]
    },
    {
      "cell_type": "code",
      "execution_count": 4,
      "metadata": {
        "colab": {
          "base_uri": "https://localhost:8080/"
        },
        "id": "3YoFcw0GmlO5",
        "outputId": "30c46163-1481-4c90-ae27-e0cb31b70f34"
      },
      "outputs": [
        {
          "output_type": "stream",
          "name": "stdout",
          "text": [
            "['DATABASE_ISSUE']\n"
          ]
        }
      ],
      "source": [
        "#Pass individual flags to Predict the root cause\n",
        "import numpy as np\n",
        "\n",
        "CPU_LOAD=1\n",
        "MEMORY_LOAD=0\n",
        "DELAY=0\n",
        "ERROR_1000=0\n",
        "ERROR_1001=1\n",
        "ERROR_1002=1\n",
        "ERROR_1003=0\n",
        "\n",
        "prediction=np.argmax(model.predict(\n",
        "    [[CPU_LOAD,MEMORY_LOAD,DELAY,\n",
        "      ERROR_1000,ERROR_1001,ERROR_1002,ERROR_1003]]), axis=1 )\n",
        "\n",
        "print(label_encoder.inverse_transform(prediction))"
      ]
    },
    {
      "cell_type": "code",
      "execution_count": 5,
      "metadata": {
        "colab": {
          "base_uri": "https://localhost:8080/"
        },
        "id": "JOPOmALmmlO5",
        "outputId": "9dc2b25f-54af-4eb5-9703-6692fd751146"
      },
      "outputs": [
        {
          "output_type": "stream",
          "name": "stdout",
          "text": [
            "['DATABASE_ISSUE' 'NETWORK_DELAY' 'MEMORY_LEAK' 'DATABASE_ISSUE'\n",
            " 'DATABASE_ISSUE']\n"
          ]
        }
      ],
      "source": [
        "#Predicting as a Batch\n",
        "print(label_encoder.inverse_transform(np.argmax(\n",
        "        model.predict([[1,0,0,0,1,1,0],\n",
        "                                [0,1,1,1,0,0,0],\n",
        "                                [1,1,0,1,1,0,1],\n",
        "                                [0,0,0,0,0,1,0],\n",
        "                                [1,0,1,0,1,1,1]]), axis=1 )))"
      ]
    },
    {
      "cell_type": "code",
      "execution_count": 5,
      "metadata": {
        "id": "FVEOXRV5mlO5"
      },
      "outputs": [],
      "source": [
        ""
      ]
    }
  ],
  "metadata": {
    "kernelspec": {
      "display_name": "Python 3 (ipykernel)",
      "language": "python",
      "name": "python3"
    },
    "language_info": {
      "codemirror_mode": {
        "name": "ipython",
        "version": 3
      },
      "file_extension": ".py",
      "mimetype": "text/x-python",
      "name": "python",
      "nbconvert_exporter": "python",
      "pygments_lexer": "ipython3",
      "version": "3.8.11"
    },
    "colab": {
      "name": "IncidentRootCauseAnalysis.ipynb",
      "provenance": [],
      "include_colab_link": true
    }
  },
  "nbformat": 4,
  "nbformat_minor": 0
}