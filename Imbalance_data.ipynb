{
  "nbformat": 4,
  "nbformat_minor": 0,
  "metadata": {
    "colab": {
      "name": "Imbalance_data.ipynb",
      "provenance": [],
      "authorship_tag": "ABX9TyMZGEOVdnceqsLA8z9hsEIF",
      "include_colab_link": true
    },
    "kernelspec": {
      "name": "python3",
      "display_name": "Python 3"
    },
    "language_info": {
      "name": "python"
    }
  },
  "cells": [
    {
      "cell_type": "markdown",
      "metadata": {
        "id": "view-in-github",
        "colab_type": "text"
      },
      "source": [
        "<a href=\"https://colab.research.google.com/github/AlexGreco1/knowledge/blob/main/Imbalance_data.ipynb\" target=\"_parent\"><img src=\"https://colab.research.google.com/assets/colab-badge.svg\" alt=\"Open In Colab\"/></a>"
      ]
    },
    {
      "cell_type": "code",
      "execution_count": 1,
      "metadata": {
        "id": "6pMV9iVF58IM"
      },
      "outputs": [],
      "source": [
        "from sklearn import datasets\n",
        "import numpy as np\n",
        "  \n",
        "bc = datasets.load_breast_cancer()\n",
        "X = bc.data\n",
        "y = bc.target\n",
        "  \n",
        "X_imbalanced = np.vstack((X[y == 1], X[y == 0][:30]))\n",
        "y_imbalanced = np.hstack((y[y == 1], y[y == 0][:30]))\n"
      ]
    },
    {
      "cell_type": "code",
      "source": [
        "import numpy as np\n",
        "from sklearn.utils import resample\n",
        "#\n",
        "# Create oversampled training data set for minority class\n",
        "#\n",
        "X_oversampled, y_oversampled = resample(X_imbalanced[y_imbalanced == 0],\n",
        "                                        y_imbalanced[y_imbalanced == 0],\n",
        "                                        replace=True,\n",
        "                                        n_samples=X_imbalanced[y_imbalanced == 1].shape[0],\n",
        "                                        random_state=123)\n",
        "#\n",
        "# Append the oversampled minority class to training data and related labels\n",
        "#\n",
        "X_balanced = np.vstack((X[y == 1], X_oversampled))\n",
        "y_balanced = np.hstack((y[y == 1], y_oversampled))"
      ],
      "metadata": {
        "id": "MVh3PIB36HGs"
      },
      "execution_count": 2,
      "outputs": []
    },
    {
      "cell_type": "code",
      "source": [
        "from sklearn.model_selection import train_test_split\n",
        "from sklearn.preprocessing import StandardScaler\n",
        "from sklearn.linear_model import LogisticRegression\n",
        "from sklearn.pipeline import make_pipeline\n",
        "from sklearn.metrics import accuracy_score\n",
        "from sklearn.model_selection import RandomizedSearchCV\n",
        "import scipy as sc\n",
        "#\n",
        "# Create training and test split using the balanced dataset\n",
        "# created by oversampling\n",
        "#\n",
        "X_train, X_test, y_train, y_test = train_test_split(X_balanced, y_balanced, test_size=0.3,\n",
        "                                                    random_state=1, stratify=y_balanced)\n",
        "#\n",
        "# Create the pipeline\n",
        "#\n",
        "pipeline = make_pipeline(StandardScaler(), LogisticRegression(random_state=1))\n",
        "#\n",
        "# Create the randomized search estimator\n",
        "#\n",
        "param_distributions = [{'logisticregression__C': sc.stats.expon(scale=100)}]\n",
        "rs = RandomizedSearchCV(estimator=pipeline, param_distributions = param_distributions,\n",
        "                        cv = 10, scoring = 'accuracy', refit = True, n_jobs = 1,\n",
        "                       random_state=1)\n",
        "#\n",
        "# Fit the model\n",
        "#\n",
        "rs.fit(X_train, y_train)\n",
        "#\n",
        "# Score the model\n",
        "#\n",
        "print('Best Score:', rs.best_score_, '\\nBest Params:', rs.best_params_)\n",
        "print('Test Accuracy: %0.3f' % rs.score(X_test, y_test))"
      ],
      "metadata": {
        "colab": {
          "base_uri": "https://localhost:8080/"
        },
        "id": "g1mcDJNo6KOI",
        "outputId": "997bea4d-a900-40bd-b3f2-58dab25136d0"
      },
      "execution_count": 3,
      "outputs": [
        {
          "output_type": "stream",
          "name": "stdout",
          "text": [
            "Best Score: 0.998 \n",
            "Best Params: {'logisticregression__C': 15.87095951946739}\n",
            "Test Accuracy: 1.000\n"
          ]
        }
      ]
    },
    {
      "cell_type": "markdown",
      "source": [
        "Now resemple\n"
      ],
      "metadata": {
        "id": "AvovgzJd6RD5"
      }
    },
    {
      "cell_type": "code",
      "source": [
        "X_undersampled, y_undersampled = resample(X_imbalanced[y_imbalanced == 1], y_imbalanced[y_imbalanced == 1],\n",
        "                replace=True,\n",
        "                n_samples=X_imbalanced[y_imbalanced == 0].shape[0],\n",
        "                random_state=123)\n"
      ],
      "metadata": {
        "id": "Y7YSiwLp6KLS"
      },
      "execution_count": 4,
      "outputs": []
    },
    {
      "cell_type": "code",
      "source": [
        "#\n",
        "# Create balanced training / test data set using undersampled majority class records\n",
        "#\n",
        "X_balanced = np.vstack((X_imbalanced[y_imbalanced == 0], X_undersampled))\n",
        "y_balanced = np.hstack((y_imbalanced[y_imbalanced == 0], y_undersampled))\n",
        "#\n",
        "# Create training and test data split\n",
        "#\n",
        "X_train, X_test, y_train, y_test = train_test_split(X_balanced, y_balanced, test_size=0.3,\n",
        "                                                    random_state=1, stratify=y_balanced)"
      ],
      "metadata": {
        "id": "0IH947cz6KIr"
      },
      "execution_count": 5,
      "outputs": []
    },
    {
      "cell_type": "code",
      "source": [
        ""
      ],
      "metadata": {
        "id": "wi8K5mUE6KGG"
      },
      "execution_count": null,
      "outputs": []
    },
    {
      "cell_type": "code",
      "source": [
        ""
      ],
      "metadata": {
        "id": "Qdo4f2kC6KDN"
      },
      "execution_count": null,
      "outputs": []
    },
    {
      "cell_type": "code",
      "source": [
        ""
      ],
      "metadata": {
        "id": "TY6-YmPQ6KAY"
      },
      "execution_count": null,
      "outputs": []
    }
  ]
}