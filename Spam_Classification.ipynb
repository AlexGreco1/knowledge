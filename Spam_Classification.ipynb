{
  "cells": [
    {
      "cell_type": "markdown",
      "metadata": {
        "id": "view-in-github",
        "colab_type": "text"
      },
      "source": [
        "<a href=\"https://colab.research.google.com/github/AlexGreco1/knowledge/blob/main/Spam_Classification.ipynb\" target=\"_parent\"><img src=\"https://colab.research.google.com/assets/colab-badge.svg\" alt=\"Open In Colab\"/></a>"
      ]
    },
    {
      "cell_type": "markdown",
      "id": "c593e910",
      "metadata": {
        "id": "c593e910"
      },
      "source": [
        "### 5.1. Setup\n",
        "\n",
        "Install required text processing libraries for the example"
      ]
    },
    {
      "cell_type": "code",
      "execution_count": 1,
      "id": "91d8262a",
      "metadata": {
        "colab": {
          "base_uri": "https://localhost:8080/"
        },
        "id": "91d8262a",
        "outputId": "3497b52d-6cde-453d-bf6b-e895a9fcd13a"
      },
      "outputs": [
        {
          "output_type": "stream",
          "name": "stdout",
          "text": [
            "Requirement already satisfied: nltk in /usr/local/lib/python3.7/dist-packages (3.2.5)\n",
            "Requirement already satisfied: six in /usr/local/lib/python3.7/dist-packages (from nltk) (1.15.0)\n",
            "[nltk_data] Downloading package stopwords to /root/nltk_data...\n",
            "[nltk_data]   Unzipping corpora/stopwords.zip.\n",
            "[nltk_data] Downloading package punkt to /root/nltk_data...\n",
            "[nltk_data]   Unzipping tokenizers/punkt.zip.\n",
            "[nltk_data] Downloading package wordnet to /root/nltk_data...\n",
            "[nltk_data]   Unzipping corpora/wordnet.zip.\n"
          ]
        }
      ],
      "source": [
        "!pip install nltk\n",
        "\n",
        "import nltk\n",
        "\n",
        "nltk.download('stopwords')\n",
        "nltk.download('punkt')\n",
        "\n",
        "from nltk.corpus import stopwords\n",
        "\n",
        "nltk.download('wordnet')\n",
        "from nltk.stem import WordNetLemmatizer\n",
        "lemmatizer = WordNetLemmatizer()"
      ]
    },
    {
      "cell_type": "markdown",
      "id": "f40c3a4f",
      "metadata": {
        "id": "f40c3a4f"
      },
      "source": [
        "### 5.2. Creating Text Representations\n",
        "\n",
        "Text data needs to be converted to numeric representations before they can be used to train deep learning models. The Spam classification feature data is converted to TF-IDF vectors and the target variable is converted to one-hot encoding."
      ]
    },
    {
      "cell_type": "code",
      "execution_count": 3,
      "id": "08900f4b",
      "metadata": {
        "colab": {
          "base_uri": "https://localhost:8080/"
        },
        "id": "08900f4b",
        "outputId": "2115c204-c180-464b-9032-221d0a6ed04f"
      },
      "outputs": [
        {
          "output_type": "stream",
          "name": "stdout",
          "text": [
            "\n",
            "Loaded Data :\n",
            "------------------------------------\n",
            "  CLASS                                                SMS\n",
            "0   ham   said kiss, kiss, i can't do the sound effects...\n",
            "1   ham      &lt;#&gt; ISH MINUTES WAS 5 MINUTES AGO. WTF.\n",
            "2  spam  (Bank of Granite issues Strong-Buy) EXPLOSIVE ...\n",
            "3  spam  * FREE* POLYPHONIC RINGTONE Text SUPER to 8713...\n",
            "4  spam  **FREE MESSAGE**Thanks for using the Auction S...\n"
          ]
        }
      ],
      "source": [
        "import pandas as pd\n",
        "import os\n",
        "import numpy as np\n",
        "from sklearn.model_selection import train_test_split\n",
        "from sklearn.preprocessing import scale\n",
        "\n",
        "#Load Spam Data and review content\n",
        "spam_data = pd.read_csv(\"Spam-Classification.csv\")\n",
        "\n",
        "print(\"\\nLoaded Data :\\n------------------------------------\")\n",
        "print(spam_data.head())\n",
        "\n",
        "#Separate feature and target data\n",
        "spam_classes_raw = spam_data[\"CLASS\"]\n",
        "spam_messages = spam_data[\"SMS\"]\n"
      ]
    },
    {
      "cell_type": "code",
      "execution_count": 4,
      "id": "64202dcd",
      "metadata": {
        "colab": {
          "base_uri": "https://localhost:8080/"
        },
        "id": "64202dcd",
        "outputId": "2c5d7556-6cd9-4a2c-a6de-b72a5ff14d80"
      },
      "outputs": [
        {
          "output_type": "stream",
          "name": "stdout",
          "text": [
            "TF-IDF Matrix Shape :  (1500, 4640)\n",
            "One-hot Encoding Shape :  (1500, 2)\n"
          ]
        }
      ],
      "source": [
        "\n",
        "import nltk\n",
        "import tensorflow as tf\n",
        "\n",
        "#Custom tokenizer to remove stopwords and use lemmatization\n",
        "def customtokenize(str):\n",
        "    #Split string as tokens\n",
        "    tokens=nltk.word_tokenize(str)\n",
        "    #Filter for stopwords\n",
        "    nostop = list(filter(lambda token: token not in stopwords.words('english'), tokens))\n",
        "    #Perform lemmatization\n",
        "    lemmatized=[lemmatizer.lemmatize(word) for word in nostop ]\n",
        "    return lemmatized\n",
        "\n",
        "from sklearn.feature_extraction.text import TfidfVectorizer\n",
        "\n",
        "#Build a TF-IDF Vectorizer model\n",
        "vectorizer = TfidfVectorizer(tokenizer=customtokenize)\n",
        "\n",
        "#Transform feature input to TF-IDF\n",
        "tfidf=vectorizer.fit_transform(spam_messages)\n",
        "#Convert TF-IDF to numpy array\n",
        "tfidf_array = tfidf.toarray()\n",
        "\n",
        "#Build a label encoder for target variable to convert strings to numeric values.\n",
        "from sklearn import preprocessing\n",
        "label_encoder = preprocessing.LabelEncoder()\n",
        "spam_classes = label_encoder.fit_transform(\n",
        "                                spam_classes_raw)\n",
        "\n",
        "#Convert target to one-hot encoding vector\n",
        "spam_classes = tf.keras.utils.to_categorical(spam_classes,2)\n",
        "\n",
        "print(\"TF-IDF Matrix Shape : \", tfidf.shape)\n",
        "print(\"One-hot Encoding Shape : \", spam_classes.shape)\n",
        "\n",
        "X_train,X_test,Y_train,Y_test = train_test_split( tfidf_array, spam_classes, test_size=0.10)"
      ]
    },
    {
      "cell_type": "markdown",
      "id": "585a983f",
      "metadata": {
        "id": "585a983f"
      },
      "source": [
        "### 5.3. Building and Evaluating the Model"
      ]
    },
    {
      "cell_type": "code",
      "execution_count": 5,
      "id": "d927db5d",
      "metadata": {
        "colab": {
          "base_uri": "https://localhost:8080/"
        },
        "id": "d927db5d",
        "outputId": "94d00882-49f0-42d9-bbf3-d6ab1396ef3f"
      },
      "outputs": [
        {
          "output_type": "stream",
          "name": "stdout",
          "text": [
            "Model: \"sequential\"\n",
            "_________________________________________________________________\n",
            " Layer (type)                Output Shape              Param #   \n",
            "=================================================================\n",
            " Hidden-Layer-1 (Dense)      (None, 32)                148512    \n",
            "                                                                 \n",
            " Hidden-Layer-2 (Dense)      (None, 32)                1056      \n",
            "                                                                 \n",
            " Output-Layer (Dense)        (None, 2)                 66        \n",
            "                                                                 \n",
            "=================================================================\n",
            "Total params: 149,634\n",
            "Trainable params: 149,634\n",
            "Non-trainable params: 0\n",
            "_________________________________________________________________\n"
          ]
        }
      ],
      "source": [
        "from tensorflow import keras\n",
        "from tensorflow.keras import optimizers\n",
        "from tensorflow.keras.regularizers import l2\n",
        "\n",
        "#Setup Hyper Parameters for building the model\n",
        "NB_CLASSES=2\n",
        "N_HIDDEN=32\n",
        "\n",
        "model = tf.keras.models.Sequential()\n",
        "\n",
        "model.add(keras.layers.Dense(N_HIDDEN,\n",
        "                             input_shape=(X_train.shape[1],),\n",
        "                              name='Hidden-Layer-1',\n",
        "                              activation='relu'))\n",
        "\n",
        "model.add(keras.layers.Dense(N_HIDDEN,\n",
        "                              name='Hidden-Layer-2',\n",
        "                              activation='relu'))\n",
        "\n",
        "model.add(keras.layers.Dense(NB_CLASSES,\n",
        "                             name='Output-Layer',\n",
        "                             activation='softmax'))\n",
        "\n",
        "model.compile(loss='categorical_crossentropy',\n",
        "              metrics=['accuracy'])\n",
        "\n",
        "model.summary()\n"
      ]
    },
    {
      "cell_type": "code",
      "execution_count": 6,
      "id": "294ceb7c",
      "metadata": {
        "colab": {
          "base_uri": "https://localhost:8080/",
          "height": 906
        },
        "id": "294ceb7c",
        "outputId": "b3832d0a-feb4-41a7-b287-9de3d3771185"
      },
      "outputs": [
        {
          "output_type": "stream",
          "name": "stdout",
          "text": [
            "\n",
            "Training Progress:\n",
            "------------------------------------\n",
            "Epoch 1/10\n",
            "5/5 [==============================] - 1s 72ms/step - loss: 0.6808 - accuracy: 0.5843 - val_loss: 0.6512 - val_accuracy: 0.7296\n",
            "Epoch 2/10\n",
            "5/5 [==============================] - 0s 20ms/step - loss: 0.6226 - accuracy: 0.8491 - val_loss: 0.6002 - val_accuracy: 0.8704\n",
            "Epoch 3/10\n",
            "5/5 [==============================] - 0s 21ms/step - loss: 0.5594 - accuracy: 0.9537 - val_loss: 0.5506 - val_accuracy: 0.9000\n",
            "Epoch 4/10\n",
            "5/5 [==============================] - 0s 15ms/step - loss: 0.4991 - accuracy: 0.9741 - val_loss: 0.5037 - val_accuracy: 0.9222\n",
            "Epoch 5/10\n",
            "5/5 [==============================] - 0s 16ms/step - loss: 0.4419 - accuracy: 0.9833 - val_loss: 0.4594 - val_accuracy: 0.9333\n",
            "Epoch 6/10\n",
            "5/5 [==============================] - 0s 16ms/step - loss: 0.3885 - accuracy: 0.9898 - val_loss: 0.4189 - val_accuracy: 0.9296\n",
            "Epoch 7/10\n",
            "5/5 [==============================] - 0s 17ms/step - loss: 0.3398 - accuracy: 0.9917 - val_loss: 0.3787 - val_accuracy: 0.9519\n",
            "Epoch 8/10\n",
            "5/5 [==============================] - 0s 16ms/step - loss: 0.2953 - accuracy: 0.9954 - val_loss: 0.3453 - val_accuracy: 0.9481\n",
            "Epoch 9/10\n",
            "5/5 [==============================] - 0s 15ms/step - loss: 0.2554 - accuracy: 0.9954 - val_loss: 0.3121 - val_accuracy: 0.9593\n",
            "Epoch 10/10\n",
            "5/5 [==============================] - 0s 16ms/step - loss: 0.2191 - accuracy: 0.9963 - val_loss: 0.2863 - val_accuracy: 0.9593\n",
            "\n",
            "Accuracy during Training :\n",
            "------------------------------------\n"
          ]
        },
        {
          "output_type": "display_data",
          "data": {
            "text/plain": [
              "<Figure size 576x360 with 1 Axes>"
            ],
            "image/png": "[encoded data removed]"
          },
          "metadata": {
            "needs_background": "light"
          }
        },
        {
          "output_type": "stream",
          "name": "stdout",
          "text": [
            "\n",
            "Evaluation against Test Dataset :\n",
            "------------------------------------\n",
            "5/5 [==============================] - 0s 3ms/step - loss: 0.2916 - accuracy: 0.9333\n"
          ]
        },
        {
          "output_type": "execute_result",
          "data": {
            "text/plain": [
              "[0.2915500998497009, 0.9333333373069763]"
            ]
          },
          "metadata": {},
          "execution_count": 6
        }
      ],
      "source": [
        "#Make it verbose so we can see the progress\n",
        "VERBOSE=1\n",
        "\n",
        "#Setup Hyper Parameters for training\n",
        "BATCH_SIZE=256\n",
        "EPOCHS=10\n",
        "VALIDATION_SPLIT=0.2\n",
        "\n",
        "print(\"\\nTraining Progress:\\n------------------------------------\")\n",
        "\n",
        "history=model.fit(X_train,\n",
        "          Y_train,\n",
        "          batch_size=BATCH_SIZE,\n",
        "          epochs=EPOCHS,\n",
        "          verbose=VERBOSE,\n",
        "          validation_split=VALIDATION_SPLIT)\n",
        "\n",
        "print(\"\\nAccuracy during Training :\\n------------------------------------\")\n",
        "import matplotlib.pyplot as plt\n",
        "\n",
        "pd.DataFrame(history.history)[\"accuracy\"].plot(figsize=(8, 5))\n",
        "plt.title(\"Accuracy improvements with Epoch\")\n",
        "plt.show()\n",
        "\n",
        "print(\"\\nEvaluation against Test Dataset :\\n------------------------------------\")\n",
        "model.evaluate(X_test,Y_test)"
      ]
    },
    {
      "cell_type": "markdown",
      "id": "1d9d4714",
      "metadata": {
        "id": "1d9d4714"
      },
      "source": [
        "### 5.4. Predicting for Text"
      ]
    },
    {
      "cell_type": "code",
      "execution_count": 7,
      "id": "eb0bdcc1",
      "metadata": {
        "colab": {
          "base_uri": "https://localhost:8080/"
        },
        "id": "eb0bdcc1",
        "outputId": "f23a194c-e266-47e1-a40b-959574614227"
      },
      "outputs": [
        {
          "output_type": "stream",
          "name": "stdout",
          "text": [
            "(2, 4640)\n",
            "Prediction Output: [1 0]\n",
            "Prediction Classes are  ['spam' 'ham']\n"
          ]
        }
      ],
      "source": [
        "#Predict for multiple samples using batch processing\n",
        "\n",
        "#Convert input into IF-IDF vector using the same vectorizer model\n",
        "predict_tfidf=vectorizer.transform([\"FREE entry to a fun contest\",\n",
        "                                    \"Yup I will come over\"]).toarray()\n",
        "\n",
        "print(predict_tfidf.shape)\n",
        "\n",
        "#Predict using model\n",
        "prediction=np.argmax( model.predict(predict_tfidf), axis=1 )\n",
        "print(\"Prediction Output:\" , prediction)\n",
        "\n",
        "#Print prediction classes\n",
        "print(\"Prediction Classes are \", label_encoder.inverse_transform(prediction))"
      ]
    },
    {
      "cell_type": "code",
      "execution_count": null,
      "id": "2a6e1e04",
      "metadata": {
        "id": "2a6e1e04"
      },
      "outputs": [],
      "source": [
        ""
      ]
    }
  ],
  "metadata": {
    "kernelspec": {
      "display_name": "Python 3 (ipykernel)",
      "language": "python",
      "name": "python3"
    },
    "language_info": {
      "codemirror_mode": {
        "name": "ipython",
        "version": 3
      },
      "file_extension": ".py",
      "mimetype": "text/x-python",
      "name": "python",
      "nbconvert_exporter": "python",
      "pygments_lexer": "ipython3",
      "version": "3.8.11"
    },
    "colab": {
      "name": "Spam - Classification.ipynb",
      "provenance": [],
      "collapsed_sections": [],
      "include_colab_link": true
    }
  },
  "nbformat": 4,
  "nbformat_minor": 5
}